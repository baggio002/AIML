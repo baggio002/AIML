{
 "cells": [
  {
   "cell_type": "code",
   "execution_count": 14,
   "id": "77ee39aa-4707-4acb-b9d0-ca945c3aa565",
   "metadata": {
    "tags": []
   },
   "outputs": [
    {
     "name": "stdout",
     "output_type": "stream",
     "text": [
      "Requirement already satisfied: torch in /opt/conda/lib/python3.10/site-packages (2.5.1)\n",
      "Requirement already satisfied: filelock in /opt/conda/lib/python3.10/site-packages (from torch) (3.14.0)\n",
      "Requirement already satisfied: typing-extensions>=4.8.0 in /opt/conda/lib/python3.10/site-packages (from torch) (4.11.0)\n",
      "Requirement already satisfied: networkx in /opt/conda/lib/python3.10/site-packages (from torch) (3.3)\n",
      "Requirement already satisfied: jinja2 in /opt/conda/lib/python3.10/site-packages (from torch) (3.1.3)\n",
      "Requirement already satisfied: fsspec in /opt/conda/lib/python3.10/site-packages (from torch) (2024.3.1)\n",
      "Requirement already satisfied: nvidia-cuda-nvrtc-cu12==12.4.127 in /opt/conda/lib/python3.10/site-packages (from torch) (12.4.127)\n",
      "Requirement already satisfied: nvidia-cuda-runtime-cu12==12.4.127 in /opt/conda/lib/python3.10/site-packages (from torch) (12.4.127)\n",
      "Requirement already satisfied: nvidia-cuda-cupti-cu12==12.4.127 in /opt/conda/lib/python3.10/site-packages (from torch) (12.4.127)\n",
      "Requirement already satisfied: nvidia-cudnn-cu12==9.1.0.70 in /opt/conda/lib/python3.10/site-packages (from torch) (9.1.0.70)\n",
      "Requirement already satisfied: nvidia-cublas-cu12==12.4.5.8 in /opt/conda/lib/python3.10/site-packages (from torch) (12.4.5.8)\n",
      "Requirement already satisfied: nvidia-cufft-cu12==11.2.1.3 in /opt/conda/lib/python3.10/site-packages (from torch) (11.2.1.3)\n",
      "Requirement already satisfied: nvidia-curand-cu12==10.3.5.147 in /opt/conda/lib/python3.10/site-packages (from torch) (10.3.5.147)\n",
      "Requirement already satisfied: nvidia-cusolver-cu12==11.6.1.9 in /opt/conda/lib/python3.10/site-packages (from torch) (11.6.1.9)\n",
      "Requirement already satisfied: nvidia-cusparse-cu12==12.3.1.170 in /opt/conda/lib/python3.10/site-packages (from torch) (12.3.1.170)\n",
      "Requirement already satisfied: nvidia-nccl-cu12==2.21.5 in /opt/conda/lib/python3.10/site-packages (from torch) (2.21.5)\n",
      "Requirement already satisfied: nvidia-nvtx-cu12==12.4.127 in /opt/conda/lib/python3.10/site-packages (from torch) (12.4.127)\n",
      "Requirement already satisfied: nvidia-nvjitlink-cu12==12.4.127 in /opt/conda/lib/python3.10/site-packages (from torch) (12.4.127)\n",
      "Requirement already satisfied: triton==3.1.0 in /opt/conda/lib/python3.10/site-packages (from torch) (3.1.0)\n",
      "Requirement already satisfied: sympy==1.13.1 in /opt/conda/lib/python3.10/site-packages (from torch) (1.13.1)\n",
      "Requirement already satisfied: mpmath<1.4,>=1.1.0 in /opt/conda/lib/python3.10/site-packages (from sympy==1.13.1->torch) (1.3.0)\n",
      "Requirement already satisfied: MarkupSafe>=2.0 in /opt/conda/lib/python3.10/site-packages (from jinja2->torch) (2.1.5)\n",
      "Requirement already satisfied: matplotlib in /opt/conda/lib/python3.10/site-packages (3.8.4)\n",
      "Requirement already satisfied: contourpy>=1.0.1 in /opt/conda/lib/python3.10/site-packages (from matplotlib) (1.2.1)\n",
      "Requirement already satisfied: cycler>=0.10 in /opt/conda/lib/python3.10/site-packages (from matplotlib) (0.12.1)\n",
      "Requirement already satisfied: fonttools>=4.22.0 in /opt/conda/lib/python3.10/site-packages (from matplotlib) (4.51.0)\n",
      "Requirement already satisfied: kiwisolver>=1.3.1 in /opt/conda/lib/python3.10/site-packages (from matplotlib) (1.4.5)\n",
      "Requirement already satisfied: numpy>=1.21 in /opt/conda/lib/python3.10/site-packages (from matplotlib) (1.26.4)\n",
      "Requirement already satisfied: packaging>=20.0 in /opt/conda/lib/python3.10/site-packages (from matplotlib) (24.0)\n",
      "Requirement already satisfied: pillow>=8 in /opt/conda/lib/python3.10/site-packages (from matplotlib) (10.3.0)\n",
      "Requirement already satisfied: pyparsing>=2.3.1 in /opt/conda/lib/python3.10/site-packages (from matplotlib) (3.1.2)\n",
      "Requirement already satisfied: python-dateutil>=2.7 in /opt/conda/lib/python3.10/site-packages (from matplotlib) (2.9.0)\n",
      "Requirement already satisfied: six>=1.5 in /opt/conda/lib/python3.10/site-packages (from python-dateutil>=2.7->matplotlib) (1.16.0)\n",
      "Requirement already satisfied: torchvision in /opt/conda/lib/python3.10/site-packages (0.20.1)\n",
      "Requirement already satisfied: numpy in /opt/conda/lib/python3.10/site-packages (from torchvision) (1.26.4)\n",
      "Requirement already satisfied: torch==2.5.1 in /opt/conda/lib/python3.10/site-packages (from torchvision) (2.5.1)\n",
      "Requirement already satisfied: pillow!=8.3.*,>=5.3.0 in /opt/conda/lib/python3.10/site-packages (from torchvision) (10.3.0)\n",
      "Requirement already satisfied: filelock in /opt/conda/lib/python3.10/site-packages (from torch==2.5.1->torchvision) (3.14.0)\n",
      "Requirement already satisfied: typing-extensions>=4.8.0 in /opt/conda/lib/python3.10/site-packages (from torch==2.5.1->torchvision) (4.11.0)\n",
      "Requirement already satisfied: networkx in /opt/conda/lib/python3.10/site-packages (from torch==2.5.1->torchvision) (3.3)\n",
      "Requirement already satisfied: jinja2 in /opt/conda/lib/python3.10/site-packages (from torch==2.5.1->torchvision) (3.1.3)\n",
      "Requirement already satisfied: fsspec in /opt/conda/lib/python3.10/site-packages (from torch==2.5.1->torchvision) (2024.3.1)\n",
      "Requirement already satisfied: nvidia-cuda-nvrtc-cu12==12.4.127 in /opt/conda/lib/python3.10/site-packages (from torch==2.5.1->torchvision) (12.4.127)\n",
      "Requirement already satisfied: nvidia-cuda-runtime-cu12==12.4.127 in /opt/conda/lib/python3.10/site-packages (from torch==2.5.1->torchvision) (12.4.127)\n",
      "Requirement already satisfied: nvidia-cuda-cupti-cu12==12.4.127 in /opt/conda/lib/python3.10/site-packages (from torch==2.5.1->torchvision) (12.4.127)\n",
      "Requirement already satisfied: nvidia-cudnn-cu12==9.1.0.70 in /opt/conda/lib/python3.10/site-packages (from torch==2.5.1->torchvision) (9.1.0.70)\n",
      "Requirement already satisfied: nvidia-cublas-cu12==12.4.5.8 in /opt/conda/lib/python3.10/site-packages (from torch==2.5.1->torchvision) (12.4.5.8)\n",
      "Requirement already satisfied: nvidia-cufft-cu12==11.2.1.3 in /opt/conda/lib/python3.10/site-packages (from torch==2.5.1->torchvision) (11.2.1.3)\n",
      "Requirement already satisfied: nvidia-curand-cu12==10.3.5.147 in /opt/conda/lib/python3.10/site-packages (from torch==2.5.1->torchvision) (10.3.5.147)\n",
      "Requirement already satisfied: nvidia-cusolver-cu12==11.6.1.9 in /opt/conda/lib/python3.10/site-packages (from torch==2.5.1->torchvision) (11.6.1.9)\n",
      "Requirement already satisfied: nvidia-cusparse-cu12==12.3.1.170 in /opt/conda/lib/python3.10/site-packages (from torch==2.5.1->torchvision) (12.3.1.170)\n",
      "Requirement already satisfied: nvidia-nccl-cu12==2.21.5 in /opt/conda/lib/python3.10/site-packages (from torch==2.5.1->torchvision) (2.21.5)\n",
      "Requirement already satisfied: nvidia-nvtx-cu12==12.4.127 in /opt/conda/lib/python3.10/site-packages (from torch==2.5.1->torchvision) (12.4.127)\n",
      "Requirement already satisfied: nvidia-nvjitlink-cu12==12.4.127 in /opt/conda/lib/python3.10/site-packages (from torch==2.5.1->torchvision) (12.4.127)\n",
      "Requirement already satisfied: triton==3.1.0 in /opt/conda/lib/python3.10/site-packages (from torch==2.5.1->torchvision) (3.1.0)\n",
      "Requirement already satisfied: sympy==1.13.1 in /opt/conda/lib/python3.10/site-packages (from torch==2.5.1->torchvision) (1.13.1)\n",
      "Requirement already satisfied: mpmath<1.4,>=1.1.0 in /opt/conda/lib/python3.10/site-packages (from sympy==1.13.1->torch==2.5.1->torchvision) (1.3.0)\n",
      "Requirement already satisfied: MarkupSafe>=2.0 in /opt/conda/lib/python3.10/site-packages (from jinja2->torch==2.5.1->torchvision) (2.1.5)\n"
     ]
    }
   ],
   "source": [
    "!pip install torch\n",
    "!pip install matplotlib\n",
    "!pip install torchvision"
   ]
  },
  {
   "cell_type": "code",
   "execution_count": 15,
   "id": "3409139b-c255-4ba1-b0ca-2193165e7bbb",
   "metadata": {
    "tags": []
   },
   "outputs": [],
   "source": [
    "# This Python 3 environment comes with many helpful analytics libraries installed\n",
    "# It is defined by the kaggle/python Docker image: https://github.com/kaggle/docker-python\n",
    "# For example, here's several helpful packages to load\n",
    "\n",
    "import numpy as np # linear algebra\n",
    "import pandas as pd # data processing, CSV file I/O (e.g. pd.read_csv)\n",
    "import torch\n",
    "import torch.nn as nn\n",
    "import torch.nn.functional as F\n",
    "import torch.optim as optim\n",
    "import matplotlib.pyplot as plt\n",
    "import numpy as np\n",
    "from torchvision import datasets, transforms\n",
    "%matplotlib inline\n",
    "\n",
    "# Input data files are available in the read-only \"../input/\" directory\n",
    "# For example, running this (by clicking run or pressing Shift+Enter) will list all files under the input directory\n",
    "\n",
    "import os\n",
    "\n",
    "# You can write up to 20GB to the current directory (/kaggle/working/) that gets preserved as output when you create a version using \"Save & Run All\" \n",
    "# You can also write temporary files to /kaggle/temp/, but they won't be saved outside of the current session"
   ]
  },
  {
   "cell_type": "code",
   "execution_count": 16,
   "id": "ea391094-403a-429d-8699-d522deca8ff6",
   "metadata": {
    "tags": []
   },
   "outputs": [],
   "source": [
    "# hyperparameters\n",
    "input_size = 28 # image size\n",
    "num_classes = 10 # type of lables\n",
    "num_epochs = 3\n",
    "batch_size = 60\n",
    "\n",
    "train_dataset = datasets.MNIST(root='./data', train=True, transform=transforms.ToTensor(), download=True)\n",
    "test_dataset = datasets.MNIST(root='./data', train=False, transform=transforms.ToTensor())\n",
    "\n",
    "train_loader = torch.utils.data.DataLoader(dataset=train_dataset, batch_size=batch_size, shuffle=True)\n",
    "test_loader = torch.utils.data.DataLoader(dataset=test_dataset, batch_size=batch_size, shuffle=True)"
   ]
  },
  {
   "cell_type": "code",
   "execution_count": 20,
   "id": "4916eb78-7662-4114-9a5e-280b7cba02fc",
   "metadata": {
    "tags": []
   },
   "outputs": [],
   "source": [
    "class CNN(nn.Module):\n",
    "    def __init__(self):\n",
    "        super(CNN, self).__init__()\n",
    "\n",
    "        self.conv1 = nn.Sequential(\n",
    "            nn.Conv2d(\n",
    "                in_channels=1,    # 灰度图，特征图个数\n",
    "                out_channels=16,  # 输出特征图, 用16个卷积核进行特征提取\n",
    "                kernel_size=5,    # 卷积核大小 5x5\n",
    "                stride=1,         # 步长\n",
    "                padding=2         # 补零， +2圈0 if we need the size keep the same after conv, we need to set padding=(kernel_size - 1)/2\n",
    "                                  #, if stride=1 \n",
    "            ),\n",
    "            nn.ReLU(),\n",
    "            nn.MaxPool2d(kernel_size=2)\n",
    "        )\n",
    "        self.conv2 = nn.Sequential(      # input 16, 14, 14\n",
    "            nn.Conv2d(16, 32, 5, 1, 2), # output 32, 14, 14\n",
    "            nn.ReLU(),\n",
    "            nn.MaxPool2d(2)              # output 32, 7, 7\n",
    "        )\n",
    "        self.out = nn.Linear(32 * 7 * 7, 10)  # fully connected layer/dense layer 全连接层\n",
    "        \n",
    "    def forward(self, x):\n",
    "        x = self.conv1(x)\n",
    "        x = self.conv2(x)\n",
    "        x = x.view(x.size(0), -1)\n",
    "        output = self.out(x)\n",
    "        return output\n",
    "        "
   ]
  },
  {
   "cell_type": "code",
   "execution_count": 21,
   "id": "7311dfac-906b-43ec-a8c9-36f9315a7a5e",
   "metadata": {
    "tags": []
   },
   "outputs": [],
   "source": [
    "def accuracy(predictions, labels):\n",
    "    pred = torch.max(predictions.data, 1)[1]\n",
    "    rights = pred.eq(labels.data.view_as(pred)).sum()\n",
    "    return rights, len(labels)"
   ]
  },
  {
   "cell_type": "code",
   "execution_count": 22,
   "id": "83bc7b3c-2351-4d02-9006-18fa79e4af3f",
   "metadata": {
    "tags": []
   },
   "outputs": [],
   "source": [
    "net = CNN()\n",
    "\n",
    "criterion = nn.CrossEntropyLoss()\n",
    "\n",
    "optimizer = optim.Adam(net.parameters(), lr=0.001) # 定义优化器，普通随机梯度下降算法"
   ]
  },
  {
   "cell_type": "code",
   "execution_count": 24,
   "id": "64d2ec70-d40b-4881-b8fa-476033814e47",
   "metadata": {
    "tags": []
   },
   "outputs": [
    {
     "name": "stdout",
     "output_type": "stream",
     "text": [
      "epoch: 0[0/60000 (0%)\t Loss: 0.062379\t training set accuracy: 98.33%\t test set accuracy: 98.67%\n",
      "epoch: 0[6000/60000 (10%)\t Loss: 0.060384\t training set accuracy: 99.06%\t test set accuracy: 98.85%\n",
      "epoch: 0[12000/60000 (20%)\t Loss: 0.085340\t training set accuracy: 99.06%\t test set accuracy: 98.81%\n",
      "epoch: 0[18000/60000 (30%)\t Loss: 0.002970\t training set accuracy: 99.06%\t test set accuracy: 98.92%\n",
      "epoch: 0[24000/60000 (40%)\t Loss: 0.021612\t training set accuracy: 99.03%\t test set accuracy: 98.98%\n",
      "epoch: 0[30000/60000 (50%)\t Loss: 0.009228\t training set accuracy: 99.02%\t test set accuracy: 99.01%\n",
      "epoch: 0[36000/60000 (60%)\t Loss: 0.093205\t training set accuracy: 99.01%\t test set accuracy: 98.81%\n",
      "epoch: 0[42000/60000 (70%)\t Loss: 0.051543\t training set accuracy: 98.99%\t test set accuracy: 98.98%\n",
      "epoch: 0[48000/60000 (80%)\t Loss: 0.005307\t training set accuracy: 99.00%\t test set accuracy: 99.12%\n",
      "epoch: 0[54000/60000 (90%)\t Loss: 0.060770\t training set accuracy: 99.01%\t test set accuracy: 98.70%\n",
      "epoch: 1[0/60000 (0%)\t Loss: 0.003666\t training set accuracy: 100.00%\t test set accuracy: 98.79%\n",
      "epoch: 1[6000/60000 (10%)\t Loss: 0.003292\t training set accuracy: 99.19%\t test set accuracy: 98.98%\n",
      "epoch: 1[12000/60000 (20%)\t Loss: 0.011929\t training set accuracy: 99.20%\t test set accuracy: 99.04%\n",
      "epoch: 1[18000/60000 (30%)\t Loss: 0.004433\t training set accuracy: 99.31%\t test set accuracy: 98.96%\n",
      "epoch: 1[24000/60000 (40%)\t Loss: 0.033251\t training set accuracy: 99.29%\t test set accuracy: 98.94%\n",
      "epoch: 1[30000/60000 (50%)\t Loss: 0.011570\t training set accuracy: 99.31%\t test set accuracy: 98.77%\n",
      "epoch: 1[36000/60000 (60%)\t Loss: 0.043461\t training set accuracy: 99.30%\t test set accuracy: 99.04%\n",
      "epoch: 1[42000/60000 (70%)\t Loss: 0.002279\t training set accuracy: 99.29%\t test set accuracy: 98.86%\n",
      "epoch: 1[48000/60000 (80%)\t Loss: 0.000568\t training set accuracy: 99.26%\t test set accuracy: 98.90%\n",
      "epoch: 1[54000/60000 (90%)\t Loss: 0.017439\t training set accuracy: 99.23%\t test set accuracy: 98.69%\n",
      "epoch: 2[0/60000 (0%)\t Loss: 0.003345\t training set accuracy: 100.00%\t test set accuracy: 98.99%\n",
      "epoch: 2[6000/60000 (10%)\t Loss: 0.019984\t training set accuracy: 99.34%\t test set accuracy: 98.97%\n",
      "epoch: 2[12000/60000 (20%)\t Loss: 0.088400\t training set accuracy: 99.35%\t test set accuracy: 98.95%\n",
      "epoch: 2[18000/60000 (30%)\t Loss: 0.002289\t training set accuracy: 99.37%\t test set accuracy: 99.04%\n",
      "epoch: 2[24000/60000 (40%)\t Loss: 0.005894\t training set accuracy: 99.38%\t test set accuracy: 98.86%\n",
      "epoch: 2[30000/60000 (50%)\t Loss: 0.030374\t training set accuracy: 99.38%\t test set accuracy: 99.06%\n",
      "epoch: 2[36000/60000 (60%)\t Loss: 0.006363\t training set accuracy: 99.36%\t test set accuracy: 98.77%\n",
      "epoch: 2[42000/60000 (70%)\t Loss: 0.102265\t training set accuracy: 99.35%\t test set accuracy: 98.98%\n",
      "epoch: 2[48000/60000 (80%)\t Loss: 0.043333\t training set accuracy: 99.36%\t test set accuracy: 98.99%\n",
      "epoch: 2[54000/60000 (90%)\t Loss: 0.003152\t training set accuracy: 99.36%\t test set accuracy: 99.03%\n"
     ]
    }
   ],
   "source": [
    "#  训练模型\n",
    "for epoch in range(num_epochs):\n",
    "    train_rights = []\n",
    "    \n",
    "    for batch_idx, (data, target) in enumerate(train_loader):\n",
    "        net.train()\n",
    "        output = net(data)\n",
    "        loss = criterion(output, target)\n",
    "        optimizer.zero_grad()\n",
    "        loss.backward()\n",
    "        optimizer.step()\n",
    "        right = accuracy(output, target)\n",
    "        train_rights.append(right)\n",
    "        \n",
    "        if batch_idx % 100 == 0:\n",
    "            net.eval()\n",
    "            val_rights = []\n",
    "            \n",
    "            for (data, target) in test_loader:\n",
    "                output = net(data)\n",
    "                right = accuracy(output, target)\n",
    "                val_rights.append(right)\n",
    "                    \n",
    "            # accuracy calculate\n",
    "            train_r = (sum([tup[0] for tup in train_rights]), sum([tup[1] for tup in train_rights]))\n",
    "            val_r = (sum([tup[0] for tup in val_rights]), sum([tup[1] for tup in val_rights]))\n",
    "                \n",
    "            print('epoch: {}[{}/{} ({:.0f}%)\\t Loss: {:.6f}\\t training set accuracy: {:.2f}%\\t test set accuracy: {:.2f}%'.format(\n",
    "                epoch, batch_idx * batch_size, len(train_loader.dataset), 100. * batch_idx / len(train_loader),\n",
    "                loss.data,\n",
    "                100. * train_r[0].numpy() / train_r[1],\n",
    "                100. * val_r[0].numpy() / val_r[1]))\n"
   ]
  },
  {
   "cell_type": "code",
   "execution_count": null,
   "id": "ae752d5f-436e-44bb-9306-d0e88272792b",
   "metadata": {},
   "outputs": [],
   "source": []
  }
 ],
 "metadata": {
  "environment": {
   "kernel": "conda-base-py",
   "name": "workbench-notebooks.m120",
   "type": "gcloud",
   "uri": "us-docker.pkg.dev/deeplearning-platform-release/gcr.io/workbench-notebooks:m120"
  },
  "kernelspec": {
   "display_name": "Python 3 (ipykernel) (Local)",
   "language": "python",
   "name": "conda-base-py"
  },
  "language_info": {
   "codemirror_mode": {
    "name": "ipython",
    "version": 3
   },
   "file_extension": ".py",
   "mimetype": "text/x-python",
   "name": "python",
   "nbconvert_exporter": "python",
   "pygments_lexer": "ipython3",
   "version": "3.10.14"
  }
 },
 "nbformat": 4,
 "nbformat_minor": 5
}
