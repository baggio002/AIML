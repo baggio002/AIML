{
 "cells": [
  {
   "cell_type": "code",
   "execution_count": 4,
   "id": "f98fa641-be14-44a3-bef5-668181db4b46",
   "metadata": {
    "tags": []
   },
   "outputs": [],
   "source": [
    "PROJECT_ID = \"dev-amer-analyt-vertex-svc-aa\"  \n",
    "LOCATION = \"us-east1\" \n",
    "USER_EMAIL = \"abhishek.patil3@fractal.ai\"  \n",
    "BUCKET_URI = f\"gs://dev-amer-analyt-vertex-svc-aa-vertex-staging-us-central1/data_drift\" \n"
   ]
  },
  {
   "cell_type": "code",
   "execution_count": 5,
   "id": "b8084cfc-59c6-480b-8bd6-cdb19a4b3d09",
   "metadata": {
    "tags": []
   },
   "outputs": [],
   "source": [
    "import os\n",
    "import random\n",
    "\n",
    "import google.cloud.aiplatform as aiplatform\n",
    "from google.cloud import bigquery\n",
    "from google.cloud.aiplatform import model_monitoring\n",
    "\n",
    "aiplatform.init(project=PROJECT_ID, location=LOCATION)\n",
    "bqclient = bigquery.Client(project=PROJECT_ID)"
   ]
  },
  {
   "cell_type": "code",
   "execution_count": 6,
   "id": "9833d6cd-c40d-480d-86db-11762d9c2585",
   "metadata": {
    "tags": []
   },
   "outputs": [
    {
     "name": "stdout",
     "output_type": "stream",
     "text": [
      "Deployment: us-docker.pkg.dev/vertex-ai/prediction/xgboost-cpu.1-1:latest\n"
     ]
    }
   ],
   "source": [
    "\n",
    "DEPLOY_VERSION = \"xgboost-cpu.1-1\"\n",
    "\n",
    "DEPLOY_IMAGE = \"{}-docker.pkg.dev/vertex-ai/prediction/{}:latest\".format(\n",
    "    LOCATION.split(\"-\")[0], DEPLOY_VERSION\n",
    ")\n",
    "\n",
    "print(\"Deployment:\", DEPLOY_IMAGE)"
   ]
  },
  {
   "cell_type": "code",
   "execution_count": 7,
   "id": "8b42b9c2-8a03-40cd-8e80-d76662a4be8f",
   "metadata": {
    "tags": []
   },
   "outputs": [
    {
     "name": "stdout",
     "output_type": "stream",
     "text": [
      "Train machine type n1-standard-4\n",
      "Deploy machine type n1-standard-4\n"
     ]
    }
   ],
   "source": [
    "MACHINE_TYPE = \"n1-standard\"\n",
    "\n",
    "VCPU = \"4\"\n",
    "TRAIN_COMPUTE = MACHINE_TYPE + \"-\" + VCPU\n",
    "print(\"Train machine type\", TRAIN_COMPUTE)\n",
    "\n",
    "MACHINE_TYPE = \"n1-standard\"\n",
    "\n",
    "VCPU = \"4\"\n",
    "DEPLOY_COMPUTE = MACHINE_TYPE + \"-\" + VCPU\n",
    "print(\"Deploy machine type\", DEPLOY_COMPUTE)"
   ]
  },
  {
   "cell_type": "code",
   "execution_count": 8,
   "id": "6fd54422-437c-470b-9a46-c5784ecafa5b",
   "metadata": {
    "tags": []
   },
   "outputs": [
    {
     "name": "stdout",
     "output_type": "stream",
     "text": [
      "Creating Model\n",
      "Create Model backing LRO: projects/650487766623/locations/us-east1/models/8563493536375242752/operations/8193045666428092416\n",
      "Model created. Resource name: projects/650487766623/locations/us-east1/models/8563493536375242752@1\n",
      "To use this Model in another session:\n",
      "model = aiplatform.Model('projects/650487766623/locations/us-east1/models/8563493536375242752@1')\n",
      "<google.cloud.aiplatform.models.Model object at 0x7fce8c41c880> \n",
      "resource name: projects/650487766623/locations/us-east1/models/8563493536375242752\n"
     ]
    }
   ],
   "source": [
    "\n",
    "MODEL_ARTIFACT_URI = (\n",
    "    \"gs://cloud-samples-data/vertex-ai/model-deployment/models/xgboost_iris\"\n",
    ")\n",
    "\n",
    "model = aiplatform.Model.upload(\n",
    "    display_name=\"fracta_iris_dataddift_test\",\n",
    "    artifact_uri=MODEL_ARTIFACT_URI,\n",
    "    serving_container_image_uri=DEPLOY_IMAGE,\n",
    "    sync=True,\n",
    ")\n",
    "\n",
    "print(model)"
   ]
  },
  {
   "cell_type": "code",
   "execution_count": 9,
   "id": "765d21a2-7bcf-481a-9363-5ebf99033f41",
   "metadata": {
    "tags": []
   },
   "outputs": [
    {
     "name": "stdout",
     "output_type": "stream",
     "text": [
      "Creating Endpoint\n",
      "Create Endpoint backing LRO: projects/650487766623/locations/us-east1/endpoints/6847243846347128832/operations/3172657981816832000\n",
      "Endpoint created. Resource name: projects/650487766623/locations/us-east1/endpoints/6847243846347128832\n",
      "To use this Endpoint in another session:\n",
      "endpoint = aiplatform.Endpoint('projects/650487766623/locations/us-east1/endpoints/6847243846347128832')\n",
      "Deploying model to Endpoint : projects/650487766623/locations/us-east1/endpoints/6847243846347128832\n",
      "Deploy Endpoint model backing LRO: projects/650487766623/locations/us-east1/endpoints/6847243846347128832/operations/6257623726565621760\n",
      "Endpoint model deployed. Resource name: projects/650487766623/locations/us-east1/endpoints/6847243846347128832\n"
     ]
    }
   ],
   "source": [
    "\n",
    "MIN_NODES = 1\n",
    "MAX_NODES = 1\n",
    "\n",
    "\n",
    "endpoint = model.deploy(\n",
    "    deployed_model_display_name=\"fracta_iris_dataddift_test\",\n",
    "    machine_type=DEPLOY_COMPUTE,\n",
    "    min_replica_count=MIN_NODES,\n",
    "    max_replica_count=MAX_NODES,\n",
    ")"
   ]
  },
  {
   "cell_type": "code",
   "execution_count": 10,
   "id": "edebfd0d-59b9-4ebc-8f16-9810822477a3",
   "metadata": {
    "tags": []
   },
   "outputs": [],
   "source": [
    "# Monitoring Interval\n",
    "MONITOR_INTERVAL = 1   # in hours\n",
    "\n",
    "# Create schedule configuration\n",
    "schedule_config = model_monitoring.ScheduleConfig(monitor_interval=MONITOR_INTERVAL)\n",
    "\n",
    "# Create alerting configuration.\n",
    "alerting_config = model_monitoring.EmailAlertConfig(\n",
    "    user_emails=[USER_EMAIL], enable_logging=True\n",
    ")\n",
    "\n",
    "# Sampling rate (optional, default=.8)\n",
    "SAMPLE_RATE = 0.8  # @param {type:\"number\"}\n",
    "\n",
    "# Create sampling configuration\n",
    "logging_sampling_strategy = model_monitoring.RandomSampleConfig(sample_rate=SAMPLE_RATE)"
   ]
  },
  {
   "cell_type": "code",
   "execution_count": 11,
   "id": "e715e183-ccd9-48ca-a0e2-f3c732922425",
   "metadata": {
    "tags": []
   },
   "outputs": [],
   "source": [
    "DRIFT_THRESHOLD_VALUE = 0.05\n",
    "ATTRIBUTION_DRIFT_THRESHOLD_VALUE = 0.05\n",
    "\n",
    "\n",
    "DRIFT_THRESHOLDS = {\n",
    "    \"sepal_length\": DRIFT_THRESHOLD_VALUE,\n",
    "    \"petal_length\": DRIFT_THRESHOLD_VALUE,\n",
    "}\n",
    "\n",
    "drift_config = model_monitoring.DriftDetectionConfig(drift_thresholds=DRIFT_THRESHOLDS)"
   ]
  },
  {
   "cell_type": "code",
   "execution_count": 12,
   "id": "f2a35fb5-40f5-461c-95b9-bebb59019fcc",
   "metadata": {
    "tags": []
   },
   "outputs": [],
   "source": [
    "# URI to training dataset.\n",
    "DATASET_BQ_URI = \"bq://dev-amer-analyt-vertex-svc-aa.dy_vertex_ai_test.fractal_iris_table_reference\"  # @param {type:\"string\"}\n",
    "# Prediction target column name in training dataset.\n",
    "TARGET = \"species\"\n",
    "\n",
    "SKEW_THRESHOLD_VALUE = 0.05\n",
    "\n",
    "SKEW_THRESHOLDS = {\n",
    "    \"sepal_length\": SKEW_THRESHOLD_VALUE,\n",
    "    \"petal_length\": SKEW_THRESHOLD_VALUE,\n",
    "}\n",
    "\n",
    "skew_config = model_monitoring.SkewDetectionConfig(\n",
    "    data_source=DATASET_BQ_URI,\n",
    "    skew_thresholds=SKEW_THRESHOLDS,\n",
    "    # attribute_skew_thresholds=ATTRIBUTE_SKEW_THRESHOLDS,\n",
    "    target_field=TARGET,\n",
    ")"
   ]
  },
  {
   "cell_type": "code",
   "execution_count": 13,
   "id": "9b39eeac-30b5-4eaf-a19f-dae51d4f2a5f",
   "metadata": {
    "tags": []
   },
   "outputs": [],
   "source": [
    "explanation_config = model_monitoring.ExplanationConfig()\n",
    "\n",
    "objective_config = model_monitoring.ObjectiveConfig(\n",
    "    skew_detection_config=skew_config,\n",
    "    drift_detection_config=drift_config,\n",
    "    explanation_config=None,\n",
    ")\n",
    "     "
   ]
  },
  {
   "cell_type": "code",
   "execution_count": 14,
   "id": "54daf3f6-fea4-4f0f-ab5f-10fdb069a2f1",
   "metadata": {
    "tags": []
   },
   "outputs": [
    {
     "name": "stdout",
     "output_type": "stream",
     "text": [
      "type: array\n",
      "properties:\n",
      "  sepal_length:\n",
      "    type: number\n",
      "  sepal_width:\n",
      "    type: number\n",
      "  petal_length:\n",
      "    type: number\n",
      "  petal_width:\n",
      "    type: number\n",
      "required:\n",
      "  - sepal_length\n",
      "  - sepal_width\n",
      "  - petal_length\n",
      "  - petal_width\n",
      "\n",
      "Copying file://schema.yaml [Content-Type=application/octet-stream]...\n",
      "/ [1 files][  230.0 B/  230.0 B]                                                \n",
      "Operation completed over 1 objects/230.0 B.                                      \n"
     ]
    }
   ],
   "source": [
    "yaml = \"\"\"type: array\n",
    "properties:\n",
    "  sepal_length:\n",
    "    type: number\n",
    "  sepal_width:\n",
    "    type: number\n",
    "  petal_length:\n",
    "    type: number\n",
    "  petal_width:\n",
    "    type: number\n",
    "required:\n",
    "  - sepal_length\n",
    "  - sepal_width\n",
    "  - petal_length\n",
    "  - petal_width\n",
    "\"\"\"\n",
    "\n",
    "print(yaml)\n",
    "\n",
    "with open(\"schema.yaml\", \"w\") as f:\n",
    "    f.write(yaml)\n",
    "\n",
    "! gsutil cp schema.yaml {BUCKET_URI}/schema.yaml"
   ]
  },
  {
   "cell_type": "code",
   "execution_count": 15,
   "id": "d5323bb2-4f09-49ec-9d54-66aa2d15d106",
   "metadata": {
    "tags": []
   },
   "outputs": [
    {
     "name": "stdout",
     "output_type": "stream",
     "text": [
      "Creating ModelDeploymentMonitoringJob\n",
      "ModelDeploymentMonitoringJob created. Resource name: projects/650487766623/locations/us-east1/modelDeploymentMonitoringJobs/8135730324295385088\n",
      "To use this ModelDeploymentMonitoringJob in another session:\n",
      "mdm_job = aiplatform.ModelDeploymentMonitoringJob('projects/650487766623/locations/us-east1/modelDeploymentMonitoringJobs/8135730324295385088')\n",
      "View Model Deployment Monitoring Job:\n",
      "https://console.cloud.google.com/ai/platform/locations/us-east1/model-deployment-monitoring/8135730324295385088?project=650487766623\n",
      "<google.cloud.aiplatform.jobs.ModelDeploymentMonitoringJob object at 0x7fce8d7ed810> \n",
      "resource name: projects/650487766623/locations/us-east1/modelDeploymentMonitoringJobs/8135730324295385088\n"
     ]
    }
   ],
   "source": [
    "monitoring_job = aiplatform.ModelDeploymentMonitoringJob.create(\n",
    "    display_name=\"fractal_test_datadrift_iris\",\n",
    "    project=PROJECT_ID,\n",
    "    location=LOCATION,\n",
    "    endpoint=endpoint,\n",
    "    logging_sampling_strategy=logging_sampling_strategy,\n",
    "    schedule_config=schedule_config,\n",
    "    alert_config=alerting_config,\n",
    "    objective_configs=objective_config,\n",
    "    analysis_instance_schema_uri=f\"{BUCKET_URI}/schema.yaml\",\n",
    ")\n",
    "\n",
    "print(monitoring_job)\n"
   ]
  },
  {
   "cell_type": "code",
   "execution_count": 4,
   "id": "bf744b16-29cd-49a5-970f-3811fc2b6fe9",
   "metadata": {},
   "outputs": [],
   "source": [
    "jobs = monitoring_job.list()\n",
    "jobs"
   ]
  },
  {
   "cell_type": "code",
   "execution_count": 5,
   "id": "2126d8db-9221-43e7-89e8-e50980fd2082",
   "metadata": {
    "tags": []
   },
   "outputs": [],
   "source": [
    "job = jobs[0]\n",
    "print(job.state)"
   ]
  },
  {
   "cell_type": "code",
   "execution_count": 10,
   "id": "84bc3f23-88b7-4b32-af47-9303a869b66c",
   "metadata": {
    "tags": []
   },
   "outputs": [],
   "source": [
    "instances = []\n",
    "for _ in range(1000):\n",
    "    sepal_length = random.uniform(0.5, 3.5)\n",
    "    sepal_width = random.uniform(0.2, 2.0)\n",
    "    petal_length = random.uniform(0.5, 2.0)\n",
    "    petal_width = random.uniform(0.2, 1.5)\n",
    "    instances.append([sepal_length, sepal_width, petal_length, petal_width])"
   ]
  },
  {
   "cell_type": "code",
   "execution_count": 12,
   "id": "ebc6df5c-c28b-45bc-8976-aa3c50a448b2",
   "metadata": {
    "tags": []
   },
   "outputs": [
    {
     "name": "stdout",
     "output_type": "stream",
     "text": [
      "Completed 0 rows.\n",
      "Completed 100 rows.\n",
      "Completed 200 rows.\n",
      "Completed 300 rows.\n",
      "Completed 400 rows.\n",
      "Completed 500 rows.\n",
      "Completed 600 rows.\n",
      "Completed 700 rows.\n",
      "Completed 800 rows.\n",
      "Completed 900 rows.\n",
      "Prediction(predictions=[0.0], deployed_model_id='331819415123263488', metadata=None, model_version_id='1', model_resource_name='projects/650487766623/locations/us-east1/models/7023262463814533120', explanations=None)\n"
     ]
    }
   ],
   "source": [
    "responses = []\n",
    "for i, instance in enumerate(instances):\n",
    "    response = endpoint.predict(instances=[instance])\n",
    "    responses.append(response)\n",
    "    if i % 100 == 0:\n",
    "        print(f\"Completed {i} rows.\")\n",
    "\n",
    "# print the prediction for the first instance\n",
    "print(responses[0])"
   ]
  },
  {
   "cell_type": "code",
   "execution_count": 3,
   "id": "28011b43-36fe-4ee6-8e0e-f0ee824e4340",
   "metadata": {
    "tags": []
   },
   "outputs": [],
   "source": [
    "import time\n",
    "\n",
    "while True:\n",
    "\n",
    "    ENDPOINT_ID = endpoint.resource_name.split(\"/\")[-1]\n",
    "\n",
    "    table = bigquery.TableReference.from_string(\n",
    "        f\"{PROJECT_ID}.model_deployment_monitoring_{ENDPOINT_ID}.serving_predict\"\n",
    "    )\n",
    "    rows = bqclient.list_rows(table)\n",
    "    print(rows.total_rows)\n",
    "    if rows.total_rows > 0:\n",
    "        break\n",
    "    time.sleep(180)"
   ]
  },
  {
   "cell_type": "code",
   "execution_count": 15,
   "id": "350cc390-635f-4908-a786-e571581f16df",
   "metadata": {
    "tags": []
   },
   "outputs": [],
   "source": [
    "instances = []\n",
    "for _ in range(1000):\n",
    "    sepal_length = random.uniform(0.5, 3.5) * 80000.0\n",
    "    sepal_width = random.uniform(0.2, 2.0)\n",
    "    petal_length = random.uniform(0.5, 2.0) * 2000\n",
    "    petal_width = random.uniform(0.2, 1.5)\n",
    "    instances.append([sepal_length, sepal_width, petal_length, petal_width])"
   ]
  },
  {
   "cell_type": "code",
   "execution_count": 16,
   "id": "0d19796d-d2ff-4ae5-b73d-612dccaab261",
   "metadata": {
    "tags": []
   },
   "outputs": [
    {
     "name": "stdout",
     "output_type": "stream",
     "text": [
      "Completed 0 rows.\n",
      "Completed 100 rows.\n",
      "Completed 200 rows.\n",
      "Completed 300 rows.\n",
      "Completed 400 rows.\n",
      "Completed 500 rows.\n",
      "Completed 600 rows.\n",
      "Completed 700 rows.\n",
      "Completed 800 rows.\n",
      "Completed 900 rows.\n",
      "Prediction(predictions=[2.0], deployed_model_id='7293258539131207680', metadata=None, model_version_id='1', model_resource_name='projects/650487766623/locations/us-east1/models/400719211766218752', explanations=None)\n"
     ]
    }
   ],
   "source": [
    "responses = []\n",
    "for i, instance in enumerate(instances):\n",
    "    response = endpoint.predict(instances=[instance])\n",
    "    responses.append(response)\n",
    "    if i % 100 == 0:\n",
    "        print(f\"Completed {i} rows.\")\n",
    "\n",
    "# print the prediction for the first instance\n",
    "print(responses[0])"
   ]
  },
  {
   "cell_type": "code",
   "execution_count": null,
   "id": "c221674f-b59e-4795-b9f1-34fabce505b2",
   "metadata": {
    "tags": []
   },
   "outputs": [
    {
     "name": "stdout",
     "output_type": "stream",
     "text": [
      "2394\n",
      "2394\n",
      "2394\n",
      "2394\n",
      "2394\n",
      "2394\n",
      "2394\n"
     ]
    },
    {
     "ename": "KeyboardInterrupt",
     "evalue": "",
     "output_type": "error",
     "traceback": [
      "\u001b[0;31m---------------------------------------------------------------------------\u001b[0m",
      "\u001b[0;31mKeyboardInterrupt\u001b[0m                         Traceback (most recent call last)",
      "Cell \u001b[0;32mIn[21], line 12\u001b[0m\n\u001b[1;32m     10\u001b[0m \u001b[38;5;28;01mif\u001b[39;00m rows\u001b[38;5;241m.\u001b[39mtotal_rows \u001b[38;5;241m>\u001b[39m \u001b[38;5;241m2399\u001b[39m:\n\u001b[1;32m     11\u001b[0m     \u001b[38;5;28;01mbreak\u001b[39;00m\n\u001b[0;32m---> 12\u001b[0m \u001b[43mtime\u001b[49m\u001b[38;5;241;43m.\u001b[39;49m\u001b[43msleep\u001b[49m\u001b[43m(\u001b[49m\u001b[38;5;241;43m180\u001b[39;49m\u001b[43m)\u001b[49m\n",
      "\u001b[0;31mKeyboardInterrupt\u001b[0m: "
     ]
    }
   ],
   "source": [
    "\n",
    "while True:\n",
    "\n",
    "    ENDPOINT_ID = endpoint.resource_name.split(\"/\")[-1]\n",
    "\n",
    "    table = bigquery.TableReference.from_string(\n",
    "        f\"{PROJECT_ID}.model_deployment_monitoring_{ENDPOINT_ID}.serving_predict\"\n",
    "    )\n",
    "    rows = bqclient.list_rows(table)\n",
    "    print(rows.total_rows)\n",
    "    if rows.total_rows > 2399:\n",
    "        break\n",
    "    time.sleep(180)"
   ]
  },
  {
   "cell_type": "code",
   "execution_count": 6,
   "id": "85501cb8-624c-4449-97fb-9901fb24f3be",
   "metadata": {
    "tags": []
   },
   "outputs": [
    {
     "data": {
      "text/plain": [
       "4"
      ]
     },
     "execution_count": 6,
     "metadata": {},
     "output_type": "execute_result"
    }
   ],
   "source": [
    "4"
   ]
  },
  {
   "cell_type": "code",
   "execution_count": null,
   "id": "a4ed5d86-ffb3-4131-aac9-993517e511b9",
   "metadata": {},
   "outputs": [],
   "source": []
  }
 ],
 "metadata": {
  "environment": {
   "kernel": "conda-base-py",
   "name": "workbench-notebooks.m126",
   "type": "gcloud",
   "uri": "us-docker.pkg.dev/deeplearning-platform-release/gcr.io/workbench-notebooks:m126"
  },
  "kernelspec": {
   "display_name": "Python 3 (ipykernel) (Local)",
   "language": "python",
   "name": "conda-base-py"
  },
  "language_info": {
   "codemirror_mode": {
    "name": "ipython",
    "version": 3
   },
   "file_extension": ".py",
   "mimetype": "text/x-python",
   "name": "python",
   "nbconvert_exporter": "python",
   "pygments_lexer": "ipython3",
   "version": "3.10.15"
  }
 },
 "nbformat": 4,
 "nbformat_minor": 5
}
